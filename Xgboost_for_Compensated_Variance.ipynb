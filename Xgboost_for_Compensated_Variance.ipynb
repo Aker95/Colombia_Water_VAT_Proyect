{
  "nbformat": 4,
  "nbformat_minor": 0,
  "metadata": {
    "colab": {
      "provenance": [],
      "machine_shape": "hm"
    },
    "kernelspec": {
      "name": "python3",
      "display_name": "Python 3"
    },
    "language_info": {
      "name": "python"
    },
    "gpuClass": "premium",
    "accelerator": "GPU"
  },
  "cells": [
    {
      "cell_type": "code",
      "execution_count": null,
      "metadata": {
        "id": "OhuDWlldib4Y"
      },
      "outputs": [],
      "source": [
        "import pandas as pd\n",
        "import numpy as np\n",
        "import warnings\n",
        "from sklearn.model_selection import train_test_split\n",
        "from sklearn.metrics import mean_squared_error\n",
        "from hyperopt import fmin, tpe, hp, Trials\n",
        "import xgboost as xgb\n",
        "from google.colab import drive\n",
        "from typing import Tuple\n",
        "import pickle\n",
        "import matplotlib.pyplot as plt\n",
        "from scipy.stats import kstest\n",
        "import matplotlib.pyplot as plt\n",
        "import seaborn as sns\n"
      ]
    },
    {
      "cell_type": "code",
      "source": [
        "from google.colab import drive\n",
        "drive.mount('/content/drive')"
      ],
      "metadata": {
        "id": "iUo7XEVKZQfE",
        "colab": {
          "base_uri": "https://localhost:8080/"
        },
        "outputId": "c0ff943e-a87b-419f-976a-5ae0e15e4b51"
      },
      "execution_count": null,
      "outputs": [
        {
          "output_type": "stream",
          "name": "stdout",
          "text": [
            "Mounted at /content/drive\n"
          ]
        }
      ]
    },
    {
      "cell_type": "code",
      "source": [
        "with open('/content/drive/MyDrive/Documents/MAESTRIA/2023-1/Econometria/ECV_AguaConsumo_Final_KP2_Actualizada.csv', 'r') as f:\n",
        "    df = pd.read_csv(f, delimiter=';')"
      ],
      "metadata": {
        "id": "YjHBLRlsfUoN"
      },
      "execution_count": null,
      "outputs": []
    },
    {
      "cell_type": "code",
      "source": [
        "with open('/content/drive/MyDrive/Documents/MAESTRIA/2023-1/Econometria/Agua consumo.csv', 'r') as f:\n",
        "    agua = pd.read_csv(f, delimiter=';')"
      ],
      "metadata": {
        "id": "PIBycY3IPhNl"
      },
      "execution_count": null,
      "outputs": []
    },
    {
      "cell_type": "code",
      "source": [
        "pred_im = np.loadtxt('/content/drive/MyDrive/Documents/MAESTRIA/2023-1/Econometria/preds.txt')"
      ],
      "metadata": {
        "id": "ePKctm3iSYsl"
      },
      "execution_count": null,
      "outputs": []
    },
    {
      "cell_type": "code",
      "source": [
        "warnings.filterwarnings(\"ignore\")"
      ],
      "metadata": {
        "id": "g9vr6Cfwif3S"
      },
      "execution_count": null,
      "outputs": []
    },
    {
      "cell_type": "code",
      "source": [
        "np.random.seed(42)\n",
        "nume=[\"p8520s4a1\",\"p6211\",\"p5010\",\"p5018\",\"p5018s1\",\"p3163\",\"p3163s1\",\"p5024\",\"p5034\",\"p5034s1\",\"p5044s1\",\"p5067\",\"p5067s1\",\"cant_personas_hogar\",\"i_hogar\",\"Agua_CargoFijo\",\"Agua_CargoBasico\",\"Agua_ConsumoComplementario\",\"Agua_ConsumoSuntuoso\",\"Kinkpoint_basico\",\"PagoMes\",\"Kinkpoint_2\"]\n",
        "\n",
        "\n",
        "\n",
        "cat=['p3155',\t'p1070',\t'Estrato',\t'p8587',\t'p5047',\t'Divipola']\n",
        "\n",
        "\n",
        "vars_to_keep = nume + cat\n",
        "df = df[vars_to_keep]"
      ],
      "metadata": {
        "id": "6oIrB064gKOA"
      },
      "execution_count": null,
      "outputs": []
    },
    {
      "cell_type": "code",
      "source": [
        "for n in nume:\n",
        "    df[n]=pd.to_numeric(df[n], errors='coerce')"
      ],
      "metadata": {
        "id": "IVWEMqAG8snp"
      },
      "execution_count": null,
      "outputs": []
    },
    {
      "cell_type": "code",
      "source": [
        "for c in cat:\n",
        "  df[c] = df[c].astype('category')"
      ],
      "metadata": {
        "id": "-XruWxcE64vG"
      },
      "execution_count": null,
      "outputs": []
    },
    {
      "cell_type": "code",
      "source": [
        "def price_function(df):\n",
        "\n",
        "  Gasto_Agua=df['PagoMes'].values.squeeze()\n",
        "  Fijo = df['Agua_CargoFijo'].values.squeeze()\n",
        "  Gasto_basico = df['Agua_CargoBasico'].values.squeeze()\n",
        "  Consumo_max_Basicos = df['Kinkpoint_basico'].values.squeeze()\n",
        "  Gasto_Complementario = df['Agua_ConsumoComplementario'].values.squeeze()\n",
        "  Consumo_max_complementario = df['Kinkpoint_2'].values.squeeze()\n",
        "  Gasto_suntuario=df['Agua_ConsumoSuntuoso'].values.squeeze()\n",
        "\n",
        "\n",
        "\n",
        "  Con= np.zeros_like(Gasto_Agua)\n",
        "\n",
        "\n",
        "  for i in range(len(Gasto_Agua)):\n",
        "\n",
        "    if Gasto_Agua[i]-Fijo[i]-Gasto_basico[i]*Consumo_max_Basicos[i]<0:\n",
        "      Consumo=(Gasto_Agua[i]-Fijo[i])/Gasto_basico[i]\n",
        "    elif Gasto_Agua[i]-Fijo[i]-Gasto_basico[i]*Consumo_max_Basicos[i]- Gasto_Complementario[i]*Consumo_max_complementario[i]<0:\n",
        "      Consumo= (Gasto_Agua[i]-Fijo[i]-Gasto_basico[i]*Consumo_max_Basicos[i])/Gasto_Complementario[i] + Consumo_max_Basicos[i]\n",
        "    else:\n",
        "      Consumo= (Gasto_Agua[i]-Fijo[i]-Gasto_basico[i]*Consumo_max_Basicos[i]- Gasto_Complementario[i]*(Consumo_max_complementario[i]-Consumo_max_Basicos[i]))/Gasto_suntuario[i] + Consumo_max_Basicos[i] + Consumo_max_complementario[i]\n",
        "    Con[i]=Consumo\n",
        "\n",
        "  return Con\n"
      ],
      "metadata": {
        "id": "Ls1MzmH-DrnN"
      },
      "execution_count": null,
      "outputs": []
    },
    {
      "cell_type": "code",
      "source": [
        "def custom_loss_space(params):\n",
        "    bst = xgb.train(params, dtrain)\n",
        "    predt = bst.predict(dtest)\n",
        "    y_true = y_test.values.squeeze()\n",
        "    Agua_CargoFijo = X_test['Agua_CargoFijo'].values.squeeze()\n",
        "    Agua_CargoBasico = X_test['Agua_CargoBasico'].values.squeeze()\n",
        "    Kinkpoint_basico = X_test['Kinkpoint_basico'].values.squeeze()\n",
        "    Agua_ConsumoComplementario = X_test['Agua_ConsumoComplementario'].values.squeeze()\n",
        "    Kinkpoint_2 = X_test['Kinkpoint_2'].values.squeeze()\n",
        "    Agua_ConsumoSuntuoso=X_test['Agua_ConsumoSuntuoso'].values.squeeze()\n",
        "    \n",
        "    loss = np.zeros_like(y_true)\n",
        "\n",
        "    for i in range(len(y_true)):\n",
        "        if predt[i]<Kinkpoint_basico[i]:\n",
        "            Exp_Agra = (predt[i]*Agua_CargoBasico[i]+Agua_CargoFijo[i])\n",
        "        elif predt[i]<Kinkpoint_2[i]:\n",
        "             Exp_Agra = ((predt[i]-Kinkpoint_basico[i])*Agua_ConsumoComplementario[i]+Kinkpoint_basico[i]*Agua_CargoBasico[i]+Agua_CargoFijo[i])\n",
        "        else:\n",
        "             Exp_Agra = ((predt[i]-Kinkpoint_basico[i]-Kinkpoint_2[i])*Agua_ConsumoSuntuoso[i]+Kinkpoint_basico[i]*Agua_CargoBasico[i]+(Kinkpoint_2[i]-Kinkpoint_basico[i])*Agua_ConsumoComplementario[i]+Agua_CargoFijo[i])\n",
        "        loss[i] = (Exp_Agra - y_true[i])**2\n",
        "    \n",
        "    return np.sqrt(np.mean(loss))\n"
      ],
      "metadata": {
        "id": "dPeTMIAklfYt"
      },
      "execution_count": null,
      "outputs": []
    },
    {
      "cell_type": "code",
      "source": [
        "def custom_loss(predt: np.ndarray, dtrain: xgb.DMatrix) -> Tuple[np.ndarray, np.ndarray]:\n",
        "    y_true = dtrain.get_label()\n",
        "    Agua_CargoFijo = X_train['Agua_CargoFijo'].values.squeeze()\n",
        "    Agua_CargoBasico = X_train['Agua_CargoBasico'].values.squeeze()\n",
        "    Kinkpoint_basico = X_train['Kinkpoint_basico'].values.squeeze()\n",
        "    Agua_ConsumoComplementario = X_train['Agua_ConsumoComplementario'].values.squeeze()\n",
        "    Kinkpoint_2 = X_train['Kinkpoint_2'].values.squeeze()\n",
        "    Agua_ConsumoSuntuoso=X_train['Agua_ConsumoSuntuoso'].values.squeeze()\n",
        "    \n",
        "    grad = np.zeros_like(y_true)\n",
        "    hess = np.zeros_like(y_true)\n",
        "    \n",
        "    for i in range(len(y_true)):\n",
        "        if predt[i]<Kinkpoint_basico[i]:\n",
        "            Exp_Agra = (predt[i]*Agua_CargoBasico[i]+Agua_CargoFijo[i])\n",
        "            grad[i] = Agua_CargoBasico[i]*2*(Exp_Agra - y_true[i])\n",
        "            hess[i] = 2*(Agua_CargoBasico[i])\n",
        "        elif predt[i]<Kinkpoint_2[i]:\n",
        "            Exp_Agra = ((predt[i]-Kinkpoint_basico[i])*Agua_ConsumoComplementario[i]+Kinkpoint_basico[i]*Agua_CargoBasico[i]+Agua_CargoFijo[i])\n",
        "            grad[i] = Agua_ConsumoComplementario[i]*2*(Exp_Agra - y_true[i])\n",
        "            hess[i] = 2*(Agua_ConsumoComplementario[i])\n",
        "        else:\n",
        "            Exp_Agra = ((predt[i]-Kinkpoint_basico[i]-Kinkpoint_2[i])*Agua_ConsumoSuntuoso[i]+Kinkpoint_basico[i]*Agua_CargoBasico[i]+(Kinkpoint_2[i]-Kinkpoint_basico[i])*Agua_ConsumoComplementario[i]+Agua_CargoFijo[i])\n",
        "            grad[i] = Agua_ConsumoSuntuoso[i]*2*(Exp_Agra - y_true[i])\n",
        "            hess[i] = 2*(Agua_ConsumoSuntuoso[i])\n",
        "             \n",
        "    return grad, hess"
      ],
      "metadata": {
        "id": "Ui3AxTZo6nta"
      },
      "execution_count": null,
      "outputs": []
    },
    {
      "cell_type": "code",
      "source": [
        "def my_mse(predt: np.ndarray, dtrain: xgb.DMatrix) -> Tuple[str, float]:\n",
        "    ''' mean squared error metric.'''\n",
        "    y_true = dtrain.get_label()\n",
        "    Agua_CargoFijo = X_train['Agua_CargoFijo'].values.squeeze()\n",
        "    Agua_CargoBasico = X_train['Agua_CargoBasico'].values.squeeze()\n",
        "    Kinkpoint_basico = X_train['Kinkpoint_basico'].values.squeeze()\n",
        "    Agua_ConsumoComplementario = X_train['Agua_ConsumoComplementario'].values.squeeze()\n",
        "    Kinkpoint_2 = X_train['Kinkpoint_2'].values.squeeze()\n",
        "    Agua_ConsumoSuntuoso=X_train['Agua_ConsumoSuntuoso'].values.squeeze()\n",
        "\n",
        "    loss = np.zeros_like(y_true)\n",
        "\n",
        "    for i in range(len(y_true)):\n",
        "        if predt[i]<Kinkpoint_basico[i]:\n",
        "            Exp_Agra = (predt[i]*Agua_CargoBasico[i]+Agua_CargoFijo[i])\n",
        "        elif predt[i]<Kinkpoint_2[i]:\n",
        "             Exp_Agra = ((predt[i]-Kinkpoint_basico[i])*Agua_ConsumoComplementario[i]+Kinkpoint_basico[i]*Agua_CargoBasico[i]+Agua_CargoFijo[i])\n",
        "        else:\n",
        "             Exp_Agra = ((predt[i]-Kinkpoint_basico[i]-Kinkpoint_2[i])*Agua_ConsumoSuntuoso[i]+Kinkpoint_basico[i]*Agua_CargoBasico[i]+(Kinkpoint_2[i]-Kinkpoint_basico[i])*Agua_ConsumoComplementario[i]+Agua_CargoFijo[i])\n",
        "        loss[i] = (Exp_Agra - y_true[i])**2\n",
        "    return 'PyMSE', float(np.sqrt(np.sum(loss[i]) / len(y_true)))"
      ],
      "metadata": {
        "id": "uqwYFkE3DGng"
      },
      "execution_count": null,
      "outputs": []
    },
    {
      "cell_type": "code",
      "source": [
        "def get_moments(array):\n",
        "    # Calculate the first four moments of the array\n",
        "    mean = np.mean(array)\n",
        "    variance = np.var(array)\n",
        "    skewness = np.mean((array - mean)**3) / np.power(variance, 3/2)\n",
        "    kurtosis = np.mean((array - mean)**4) / np.power(variance, 2) - 3\n",
        "\n",
        "    # Return a dictionary with the moments\n",
        "    moments = {'Mean': mean, 'Variance': variance, 'Skewness': skewness, 'Kurtosis': kurtosis}\n",
        "    return moments\n"
      ],
      "metadata": {
        "id": "QRnzyICTTwn9"
      },
      "execution_count": null,
      "outputs": []
    },
    {
      "cell_type": "code",
      "source": [
        "def outliers(result, sd):\n",
        "  z_scores = np.abs((result - result.mean()) / result.std())\n",
        "  no_outliers = result[(z_scores < sd)]\n",
        "\n",
        "  return no_outliers"
      ],
      "metadata": {
        "id": "Zqkw2sbwVFYP"
      },
      "execution_count": null,
      "outputs": []
    },
    {
      "cell_type": "code",
      "source": [
        "def Graph_St(var):\n",
        "  sns.histplot(var, kde=True)\n",
        "\n",
        "  # Get the moments of the data\n",
        "  moments = get_moments(var)\n",
        "\n",
        "  # Add text to the plot with moments\n",
        "  plt.text(0.95, 0.95, f\"Mean: {moments['Mean']:.2f}\\nVariance: {moments['Variance']:.2f}\\nSkewness: {moments['Skewness']:.2f}\\nKurtosis: {moments['Kurtosis']:.2f}\", fontsize=12, ha='right', va='top', transform=plt.gca().transAxes)"
      ],
      "metadata": {
        "id": "OZ82qmVnVzWm"
      },
      "execution_count": null,
      "outputs": []
    },
    {
      "cell_type": "code",
      "source": [
        "def integral_est_mc(row):\n",
        "\n",
        "    repeated_rows = pd.concat([row] * 1000, axis=1).transpose()\n",
        "    precios=['Agua_CargoBasico','Agua_ConsumoComplementario','Agua_ConsumoSuntuoso']\n",
        "\n",
        "    inter=[]\n",
        "\n",
        "    for p in precios:\n",
        "        a, b =row[p], row[p]*1.2\n",
        "        samples = np.random.uniform(a, b, 1000)\n",
        "        repeated_rows[p]=samples\n",
        "        inter.append(b-a)\n",
        "\n",
        "    X_r, y_r = repeated_rows.drop('PagoMes', axis=1), repeated_rows[['PagoMes']]\n",
        "\n",
        "    dr_reg = xgb.DMatrix(X_r, y_r, enable_categorical=True)\n",
        "\n",
        "    p_rep = model.predict(dr_reg)\n",
        "\n",
        "    # generate random samples\n",
        "\n",
        "    # calculate the integral estimate\n",
        "    integral_estimate = (np.prod(inter) / (1000**2)) * np.sum(p_rep)\n",
        "\n",
        "    return -integral_estimate"
      ],
      "metadata": {
        "id": "gMHLQxC_SKMD"
      },
      "execution_count": null,
      "outputs": []
    },
    {
      "cell_type": "code",
      "source": [
        "X, y = df.drop('PagoMes', axis=1), df['PagoMes']"
      ],
      "metadata": {
        "id": "lq9Q5WOmiiwZ"
      },
      "execution_count": null,
      "outputs": []
    },
    {
      "cell_type": "code",
      "source": [
        "X_train, X_test, y_train, y_test = train_test_split(X, y, random_state=1)"
      ],
      "metadata": {
        "id": "evm4tXqAlnOl"
      },
      "execution_count": null,
      "outputs": []
    },
    {
      "cell_type": "code",
      "source": [
        "# Create regression matrices\n",
        "dtrain = xgb.DMatrix(X_train, y_train, enable_categorical=True)\n",
        "dtest = xgb.DMatrix(X_test, y_test, enable_categorical=True)"
      ],
      "metadata": {
        "id": "2EUlqgLBlpL1"
      },
      "execution_count": null,
      "outputs": []
    },
    {
      "cell_type": "code",
      "source": [
        "evals = [(dtrain, \"train\"), (dtest, \"test\")]"
      ],
      "metadata": {
        "id": "AlyvvI5cmKUU"
      },
      "execution_count": null,
      "outputs": []
    },
    {
      "cell_type": "markdown",
      "source": [],
      "metadata": {
        "id": "AoARjZqzj3C5"
      }
    },
    {
      "cell_type": "code",
      "source": [
        "space = {\n",
        "    'learning_rate': hp.loguniform('learning_rate', -40, 0),\n",
        "    'max_depth': hp.choice('max_depth', list(range(3,400))),\n",
        "    'gamma': hp.loguniform('gamma', -85, 80),\n",
        "    'min_child_weight': hp.quniform('min_child_weight', 1, 100, 1),\n",
        "    'subsample': hp.uniform('subsample', 0.1, 1),\n",
        "    'colsample_bytree': hp.uniform('colsample_bytree', 0.1, 1),\n",
        "    'alpha': hp.choice('alpha', [0, hp.loguniform('alpha_positive', -60, 60)]),\n",
        "    'lambda': hp.choice('lambda', [0, hp.loguniform('lambda_positive', -60, 60)]),\n",
        "    'tree_method': 'gpu_hist',  # if you are using a GPU for training\n",
        "}\n",
        "\n",
        "\n",
        "# First phase hyperparameter search\n",
        "trials = Trials()\n",
        "best = fmin(custom_loss_space, space, algo=tpe.suggest, max_evals=100, trials=trials)"
      ],
      "metadata": {
        "colab": {
          "base_uri": "https://localhost:8080/"
        },
        "id": "p1fAAf0JYHqK",
        "outputId": "75e875ee-ce38-4d1f-a3fb-2756eeab843d"
      },
      "execution_count": null,
      "outputs": [
        {
          "output_type": "stream",
          "name": "stdout",
          "text": [
            "100%|██████████| 100/100 [00:15<00:00,  6.47trial/s, best loss: 23764.600397743354]\n"
          ]
        }
      ]
    },
    {
      "cell_type": "code",
      "source": [
        "best"
      ],
      "metadata": {
        "colab": {
          "base_uri": "https://localhost:8080/"
        },
        "id": "PzaoJJcKP4GE",
        "outputId": "8ba3742d-136a-4189-e7ee-07f780575618"
      },
      "execution_count": null,
      "outputs": [
        {
          "output_type": "execute_result",
          "data": {
            "text/plain": [
              "{'alpha': 0,\n",
              " 'colsample_bytree': 0.5795829584979774,\n",
              " 'gamma': 144587.61540979304,\n",
              " 'lambda': 0,\n",
              " 'learning_rate': 3.230157522649244e-05,\n",
              " 'max_depth': 80,\n",
              " 'min_child_weight': 70.0,\n",
              " 'subsample': 0.9294338156645701}"
            ]
          },
          "metadata": {},
          "execution_count": 20
        }
      ]
    },
    {
      "cell_type": "code",
      "source": [
        "best_params = {\n",
        "    'tree_method': 'gpu_hist',\n",
        "    'learning_rate': best['learning_rate'],\n",
        "    'max_depth': int(best['max_depth']),\n",
        "    'gamma': best['gamma'],\n",
        "    'min_child_weight': int(best['min_child_weight']),\n",
        "    'subsample': best['subsample'],\n",
        "    'colsample_bytree': best['colsample_bytree'],\n",
        "    'alpha': best['alpha'],\n",
        "    'lambda': best['lambda']\n",
        "}"
      ],
      "metadata": {
        "id": "vNk5u0qqjOdd"
      },
      "execution_count": null,
      "outputs": []
    },
    {
      "cell_type": "code",
      "source": [
        "n = 10000\n",
        "model = xgb.train(\n",
        "   params=best_params,\n",
        "   dtrain=dtrain,\n",
        "   num_boost_round=n,\n",
        "   obj=custom_loss,\n",
        "   feval=my_mse,\n",
        "   evals=evals,\n",
        "   verbose_eval=100,\n",
        "   # Activate early stopping\n",
        "   early_stopping_rounds=20,\n",
        "   \n",
        ")"
      ],
      "metadata": {
        "colab": {
          "base_uri": "https://localhost:8080/"
        },
        "id": "_vfzzr15IRa_",
        "outputId": "f0340231-44b5-494b-ca83-ed7450bb43b8"
      },
      "execution_count": null,
      "outputs": [
        {
          "output_type": "stream",
          "name": "stdout",
          "text": [
            "[0]\ttrain-rmse:47568.37549\ttrain-PyMSE:489.56134\ttest-rmse:46372.14328\ttest-PyMSE:544.54822\n",
            "[100]\ttrain-rmse:47542.59574\ttrain-PyMSE:38.74528\ttest-rmse:46348.12021\ttest-PyMSE:199.74639\n",
            "[200]\ttrain-rmse:47541.10782\ttrain-PyMSE:22.51354\ttest-rmse:46346.85450\ttest-PyMSE:195.88275\n",
            "[228]\ttrain-rmse:47540.97489\ttrain-PyMSE:18.84357\ttest-rmse:46346.74575\ttest-PyMSE:196.31826\n"
          ]
        }
      ]
    },
    {
      "cell_type": "code",
      "source": [
        "preds = model.predict(dtest)"
      ],
      "metadata": {
        "id": "WP8mV6K8SN7_"
      },
      "execution_count": null,
      "outputs": []
    },
    {
      "cell_type": "code",
      "source": [
        "preds.max()"
      ],
      "metadata": {
        "colab": {
          "base_uri": "https://localhost:8080/"
        },
        "id": "GlowbAJcSQj-",
        "outputId": "26882d9c-ef99-4595-c319-6d16d795223e"
      },
      "execution_count": null,
      "outputs": [
        {
          "output_type": "execute_result",
          "data": {
            "text/plain": [
              "240.83154"
            ]
          },
          "metadata": {},
          "execution_count": 21
        }
      ]
    },
    {
      "cell_type": "code",
      "source": [
        "preds.min()"
      ],
      "metadata": {
        "colab": {
          "base_uri": "https://localhost:8080/"
        },
        "id": "Zdos4wdoSVaz",
        "outputId": "0cdb5f30-606d-4f51-b6e9-7147d47155fe"
      },
      "execution_count": null,
      "outputs": [
        {
          "output_type": "execute_result",
          "data": {
            "text/plain": [
              "-16.25975"
            ]
          },
          "metadata": {},
          "execution_count": 22
        }
      ]
    },
    {
      "cell_type": "code",
      "source": [
        "file_name = \"/content/drive/MyDrive/Documents/MAESTRIA/2023-1/Econometria/modelf.pickle\"\n",
        "\n",
        "# Save the model\n",
        "pickle.dump(model, open(file_name, \"wb\"))"
      ],
      "metadata": {
        "id": "V17gKHNPYaBi"
      },
      "execution_count": null,
      "outputs": []
    },
    {
      "cell_type": "code",
      "source": [
        "file_name = \"/content/drive/MyDrive/Documents/MAESTRIA/2023-1/Econometria/modelf.pickle\"\n",
        "# load\n",
        "model_loaded = pickle.load(open(file_name, \"rb\"))"
      ],
      "metadata": {
        "id": "S27NgnS8WfK2"
      },
      "execution_count": null,
      "outputs": []
    },
    {
      "cell_type": "code",
      "source": [
        "model=model_loaded "
      ],
      "metadata": {
        "id": "7QnllCvlnSMB"
      },
      "execution_count": null,
      "outputs": []
    },
    {
      "cell_type": "code",
      "source": [
        "Y=model_loaded.predict(dtest) == model.predict(dtest)\n"
      ],
      "metadata": {
        "id": "XGJupn9aWOD1"
      },
      "execution_count": null,
      "outputs": []
    },
    {
      "cell_type": "code",
      "source": [
        "Y=Y.squeeze()"
      ],
      "metadata": {
        "id": "u1Sk2pGwZWiP"
      },
      "execution_count": null,
      "outputs": []
    },
    {
      "cell_type": "code",
      "source": [
        "test_load= [0 if i==True  else 1 for i in Y]"
      ],
      "metadata": {
        "id": "xH5ccWBKZbgu"
      },
      "execution_count": null,
      "outputs": []
    },
    {
      "cell_type": "code",
      "source": [
        "sum(test_load)"
      ],
      "metadata": {
        "colab": {
          "base_uri": "https://localhost:8080/"
        },
        "id": "BIOfSoCQZ7Gu",
        "outputId": "a94453cf-9590-4b17-d282-7f47d0a05fce"
      },
      "execution_count": null,
      "outputs": [
        {
          "output_type": "execute_result",
          "data": {
            "text/plain": [
              "0"
            ]
          },
          "metadata": {},
          "execution_count": 33
        }
      ]
    },
    {
      "cell_type": "code",
      "source": [
        "X_t, y_t=df.drop('PagoMes', axis=1), df[['PagoMes']]\n",
        "\n",
        "tot_reg = xgb.DMatrix(X_t, y_t, enable_categorical=True)"
      ],
      "metadata": {
        "id": "aKw8Ls953Xje"
      },
      "execution_count": null,
      "outputs": []
    },
    {
      "cell_type": "code",
      "source": [
        "preds_df= model.predict(tot_reg )"
      ],
      "metadata": {
        "id": "GPmwc72SyJEQ"
      },
      "execution_count": null,
      "outputs": []
    },
    {
      "cell_type": "code",
      "source": [
        "preds_df = pd.DataFrame(preds_df, columns=['predictions'])\n",
        "\n",
        "\n",
        "preds_df.to_csv('/content/drive/MyDrive/Documents/MAESTRIA/2023-1/Econometria/preds.txt', index=False)"
      ],
      "metadata": {
        "id": "P8juRWQ0kkRH"
      },
      "execution_count": null,
      "outputs": []
    },
    {
      "cell_type": "markdown",
      "source": [
        "$$\n",
        "Int_i=\\int_{c_{Basic_{i}}*1.2}^{c_{Basic_{i}}}\\int_{c_{Comple_{i}}*1.2}^{c_{Comple_{i}}}\\int_{c_{Sump_{i}}*1.2}^{c_{Sump_{i}}} \\hat{Y_i} \\ dc_{Basic_{i}}\\ dc_{Comple_{i}}\\ dc_{Sump_{i}}\n",
        "$$\n"
      ],
      "metadata": {
        "id": "mxf2KkJw39t8"
      }
    },
    {
      "cell_type": "code",
      "source": [
        "result_ddf =df.apply(integral_est_mc, axis=1)"
      ],
      "metadata": {
        "id": "ljKa5aZZmw2r"
      },
      "execution_count": null,
      "outputs": []
    },
    {
      "cell_type": "code",
      "source": [
        "result_ddf.to_csv('/content/drive/MyDrive/Documents/MAESTRIA/2023-1/Econometria/resultf.txt', index=False)"
      ],
      "metadata": {
        "id": "A8hMNaR5scsg"
      },
      "execution_count": null,
      "outputs": []
    },
    {
      "cell_type": "code",
      "source": [
        "# Assuming your result_ddf series is a pandas dataframe\n",
        "result_ddf.plot(kind='hist', density=True, alpha=0.5, bins=20)\n",
        "\n",
        "# Adding a predicted density curve\n",
        "result_ddf.plot(kind='density')\n",
        "\n",
        "plt.xlabel('Values')\n",
        "plt.ylabel('Density')\n",
        "plt.show()"
      ],
      "metadata": {
        "id": "TbHEJbt9G1M1",
        "colab": {
          "base_uri": "https://localhost:8080/",
          "height": 465
        },
        "outputId": "d37d1e2f-f198-4dbb-8a2b-9d55451969db"
      },
      "execution_count": null,
      "outputs": [
        {
          "output_type": "display_data",
          "data": {
            "text/plain": [
              "<Figure size 640x480 with 1 Axes>"
            ],
            "image/png": "[encoded data removed]"
          },
          "metadata": {}
        }
      ]
    },
    {
      "cell_type": "code",
      "source": [
        "preds_t = model.predict(tot_reg)\n",
        "\n",
        "import seaborn as sns\n",
        "\n",
        "# Assuming your result_ddf is a pandas Series\n",
        "sns.histplot(preds_t, kde=True)\n",
        "plt.show()"
      ],
      "metadata": {
        "colab": {
          "base_uri": "https://localhost:8080/",
          "height": 430
        },
        "outputId": "b77f1d66-81cb-4576-bfa2-9b40bce726ef",
        "id": "bIJEZk7b2_ir"
      },
      "execution_count": null,
      "outputs": [
        {
          "output_type": "display_data",
          "data": {
            "text/plain": [
              "<Figure size 640x480 with 1 Axes>"
            ],
            "image/png": "[encoded data removed]"
          },
          "metadata": {}
        }
      ]
    },
    {
      "cell_type": "code",
      "source": [
        "df[\"Consumo\"].max()"
      ],
      "metadata": {
        "colab": {
          "base_uri": "https://localhost:8080/"
        },
        "id": "RNV7GfYhLEme",
        "outputId": "03aa4d72-3ef1-4bc8-9604-7cc0e04bcc7e"
      },
      "execution_count": null,
      "outputs": [
        {
          "output_type": "execute_result",
          "data": {
            "text/plain": [
              "798.4161073825503"
            ]
          },
          "metadata": {},
          "execution_count": 7
        }
      ]
    },
    {
      "cell_type": "code",
      "source": [
        "result_ddf.plot(kind='box')\n",
        "\n",
        "plt.xlabel('Values')\n",
        "plt.show()"
      ],
      "metadata": {
        "colab": {
          "base_uri": "https://localhost:8080/",
          "height": 451
        },
        "id": "Uv-8EQY90eD4",
        "outputId": "0e47ad18-c5e4-4605-fcca-fd429d87fd27"
      },
      "execution_count": null,
      "outputs": [
        {
          "output_type": "display_data",
          "data": {
            "text/plain": [
              "<Figure size 640x480 with 1 Axes>"
            ],
            "image/png": "[encoded data removed]"
          },
          "metadata": {}
        }
      ]
    },
    {
      "cell_type": "code",
      "source": [
        "z_scores = np.abs((result_ddf - result_ddf.mean()) / result_ddf.std())\n",
        "result_ddf_no_outliers = result_ddf[(z_scores < .5)]"
      ],
      "metadata": {
        "id": "VEdHhotH0tlv"
      },
      "execution_count": null,
      "outputs": []
    },
    {
      "cell_type": "code",
      "source": [
        "len(z_scores)"
      ],
      "metadata": {
        "colab": {
          "base_uri": "https://localhost:8080/"
        },
        "id": "a6t436Or0_VT",
        "outputId": "da9a502c-4095-4a8e-9245-9db7db67775b"
      },
      "execution_count": null,
      "outputs": [
        {
          "output_type": "execute_result",
          "data": {
            "text/plain": [
              "15336"
            ]
          },
          "metadata": {},
          "execution_count": 59
        }
      ]
    },
    {
      "cell_type": "code",
      "source": [
        "len(result_ddf_no_outliers )"
      ],
      "metadata": {
        "colab": {
          "base_uri": "https://localhost:8080/"
        },
        "id": "udDzBrJ608sx",
        "outputId": "a5626505-14fe-4252-8fb2-5793d17b50a8"
      },
      "execution_count": null,
      "outputs": [
        {
          "output_type": "execute_result",
          "data": {
            "text/plain": [
              "14293"
            ]
          },
          "metadata": {},
          "execution_count": 60
        }
      ]
    },
    {
      "cell_type": "code",
      "source": [
        "import matplotlib.pyplot as plt\n",
        "\n",
        "# Assuming your result_ddf series is a pandas dataframe\n",
        "result_ddf_no_outliers.plot(kind='hist', density=True, alpha=0.5, bins=20)\n",
        "\n",
        "# Adding a predicted density curve\n",
        "result_ddf_no_outliers.plot(kind='density')\n",
        "\n",
        "plt.xlabel('Values')\n",
        "plt.ylabel('Density')\n",
        "plt.show()"
      ],
      "metadata": {
        "colab": {
          "base_uri": "https://localhost:8080/",
          "height": 465
        },
        "id": "4DL4NjcT1DjX",
        "outputId": "261ab4a7-4f2f-468c-9ed6-3ef474bb2382"
      },
      "execution_count": null,
      "outputs": [
        {
          "output_type": "display_data",
          "data": {
            "text/plain": [
              "<Figure size 640x480 with 1 Axes>"
            ],
            "image/png": "[encoded data removed]"
          },
          "metadata": {}
        }
      ]
    },
    {
      "cell_type": "code",
      "source": [
        "np.median(result_ddf_no_outliers)"
      ],
      "metadata": {
        "colab": {
          "base_uri": "https://localhost:8080/"
        },
        "id": "4UCGdYJZzc22",
        "outputId": "d0bd6a4a-69dc-4eb3-9786-acc0e993c86c"
      },
      "execution_count": null,
      "outputs": [
        {
          "output_type": "execute_result",
          "data": {
            "text/plain": [
              "-353227.11054274824"
            ]
          },
          "metadata": {},
          "execution_count": 62
        }
      ]
    },
    {
      "cell_type": "code",
      "source": [
        "result_ddf_no_outliers.plot(kind='box')\n",
        "\n",
        "plt.xlabel('Values')\n",
        "plt.show()"
      ],
      "metadata": {
        "colab": {
          "base_uri": "https://localhost:8080/",
          "height": 451
        },
        "id": "f0PNR5cY1nLx",
        "outputId": "0bd0fddd-729b-4650-ef92-d588b330c6f2"
      },
      "execution_count": null,
      "outputs": [
        {
          "output_type": "display_data",
          "data": {
            "text/plain": [
              "<Figure size 640x480 with 1 Axes>"
            ],
            "image/png": "[encoded data removed]"
          },
          "metadata": {}
        }
      ]
    },
    {
      "cell_type": "code",
      "source": [
        "max_count = np.max(np.histogram(result_ddf_no_outliers, bins=100)[0])  # Find the maximum value of the histogram"
      ],
      "metadata": {
        "id": "w3mlM6012SRw"
      },
      "execution_count": null,
      "outputs": []
    },
    {
      "cell_type": "code",
      "source": [
        "\n",
        "# Assuming your data is in a NumPy array called `data`\n",
        "n, bins, patches = plt.hist(result_ddf, bins=1000)  # Plot a histogram with 20 bins\n",
        "plt.xlabel('Value')\n",
        "plt.ylabel('Frequency')\n",
        "plt.show()\n",
        "\n",
        "bin_idx = np.argmax(n)  # Find the index of the bin with the highest frequency count\n",
        "mode_x = (bins[bin_idx] + bins[bin_idx+1])/2  # Compute the midpoint of the bin\n",
        "\n",
        "print(\"x value corresponding to the highest point of the distribution: \", mode_x)\n",
        "print(\"x value for the median of the distribution: \", np.median(result_ddf))\n",
        "\n"
      ],
      "metadata": {
        "colab": {
          "base_uri": "https://localhost:8080/",
          "height": 484
        },
        "id": "qBoP1vk-8P0h",
        "outputId": "5af880bb-5486-4eb1-b4d8-166298a6103c"
      },
      "execution_count": null,
      "outputs": [
        {
          "output_type": "display_data",
          "data": {
            "text/plain": [
              "<Figure size 640x480 with 1 Axes>"
            ],
            "image/png": "[encoded data removed]"
          },
          "metadata": {}
        },
        {
          "output_type": "stream",
          "name": "stdout",
          "text": [
            "x value corresponding to the highest point of the distribution:  -25462.6279437989\n",
            "x value for the median of the distribution:  -398744.3556124213\n"
          ]
        }
      ]
    },
    {
      "cell_type": "code",
      "source": [
        "# Assuming your result_ddf is a pandas Series\n",
        "sns.histplot(agua[\"CantidadesConsumidas\"], kde=True)\n",
        "plt.show()"
      ],
      "metadata": {
        "colab": {
          "base_uri": "https://localhost:8080/",
          "height": 449
        },
        "id": "OsiMWp-GK0-i",
        "outputId": "ca7c2d3d-7734-41e1-aa26-cb59aea8476f"
      },
      "execution_count": null,
      "outputs": [
        {
          "output_type": "display_data",
          "data": {
            "text/plain": [
              "<Figure size 640x480 with 1 Axes>"
            ],
            "image/png": "[encoded data removed]"
          },
          "metadata": {}
        }
      ]
    },
    {
      "cell_type": "code",
      "source": [
        "z_scores_agua = np.abs(agua[\"CantidadesConsumidas\"]- agua[\"CantidadesConsumidas\"].mean()) / agua[\"CantidadesConsumidas\"].std()\n",
        "agua_no_outliers = agua[\"CantidadesConsumidas\"][(z_scores_agua < 3)]"
      ],
      "metadata": {
        "id": "ABPM_OniOhc4"
      },
      "execution_count": null,
      "outputs": []
    },
    {
      "cell_type": "code",
      "source": [
        "Consumo=price_function(df)"
      ],
      "metadata": {
        "id": "LOW4LB1FMvMm"
      },
      "execution_count": null,
      "outputs": []
    },
    {
      "cell_type": "code",
      "source": [
        "Graph_St(Consumo)\n",
        "plt.show()"
      ],
      "metadata": {
        "colab": {
          "base_uri": "https://localhost:8080/",
          "height": 430
        },
        "id": "kZ32QPrSTXi-",
        "outputId": "36a1966c-8245-46b3-901f-d7c4a16d8ebe"
      },
      "execution_count": null,
      "outputs": [
        {
          "output_type": "display_data",
          "data": {
            "text/plain": [
              "<Figure size 640x480 with 1 Axes>"
            ],
            "image/png": "[encoded data removed]"
          },
          "metadata": {}
        }
      ]
    },
    {
      "cell_type": "code",
      "source": [
        "Consumo\n"
      ],
      "metadata": {
        "colab": {
          "base_uri": "https://localhost:8080/"
        },
        "id": "2XXjmizAxUNj",
        "outputId": "d1663120-5d89-4a4e-deeb-9ed5b3ec16d5"
      },
      "execution_count": null,
      "outputs": [
        {
          "output_type": "execute_result",
          "data": {
            "text/plain": [
              "23.961340206185568"
            ]
          },
          "metadata": {},
          "execution_count": 34
        }
      ]
    },
    {
      "cell_type": "code",
      "source": [
        "Graph_St(preds_df)\n",
        "# Display the plot\n",
        "plt.show()"
      ],
      "metadata": {
        "colab": {
          "base_uri": "https://localhost:8080/",
          "height": 430
        },
        "id": "DjIzOEUYS8D1",
        "outputId": "41a6ea7f-2bd5-4ba0-ee3e-90553a019ca8"
      },
      "execution_count": null,
      "outputs": [
        {
          "output_type": "display_data",
          "data": {
            "text/plain": [
              "<Figure size 640x480 with 1 Axes>"
            ],
            "image/png": "[encoded data removed]"
          },
          "metadata": {}
        }
      ]
    },
    {
      "cell_type": "code",
      "source": [
        "# Perform the Kolmogorov-Smirnov test\n",
        "statistic, pvalue = kstest(preds_df, Consumo)\n",
        "\n",
        "# Print the results\n",
        "print(f\"Kolmogorov-Smirnov statistic: {statistic:.4f}\")\n",
        "print(f\"P-value: {pvalue:.4f}\")"
      ],
      "metadata": {
        "colab": {
          "base_uri": "https://localhost:8080/"
        },
        "id": "9AUTNZiuU4AN",
        "outputId": "43431089-1927-46df-8a62-01721fe41608"
      },
      "execution_count": null,
      "outputs": [
        {
          "output_type": "stream",
          "name": "stdout",
          "text": [
            "Kolmogorov-Smirnov statistic: 0.0820\n",
            "P-value: 0.0000\n"
          ]
        }
      ]
    }
  ]
}